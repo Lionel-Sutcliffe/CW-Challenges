{
 "cells": [
  {
   "cell_type": "markdown",
   "metadata": {},
   "source": [
    "# Strings Mix\n",
    "\n",
    "https://www.codewars.com/kata/5629db57620258aa9d000014\n",
    "\n",
    "#### Given two strings s1 and s2, we want to visualize how different the two strings are. We will only take into account the lowercase letters (a to z). First let us count the frequency of each lowercase letters in s1 and s2.\n",
    "\n",
    "s1 = \"A aaaa bb c\"\n",
    "\n",
    "s2 = \"& aaa bbb c d\"\n",
    "\n",
    "s1 has 4 'a', 2 'b', 1 'c'\n",
    "\n",
    "s2 has 3 'a', 3 'b', 1 'c', 1 'd'\n",
    "\n",
    "So the maximum for 'a' in s1 and s2 is 4 from s1; the maximum for 'b' is 3 from s2. In the following we will not consider letters when the maximum of their occurrences is less than or equal to 1.\n",
    "\n",
    "We can resume the differences between s1 and s2 in the following string: \"1:aaaa/2:bbb\" where 1 in 1:aaaa stands for string s1 and aaaa because the maximum for a is 4. In the same manner 2:bbb stands for string s2 and bbb because the maximum for b is 3.\n",
    "\n",
    "The task is to produce a string in which each lowercase letters of s1 or s2 appears as many times as its maximum if this maximum is strictly greater than 1; these letters will be prefixed by the number of the string where they appear with their maximum value and :. If the maximum is in s1 as well as in s2 the prefix is =:.\n",
    "\n",
    "In the result, substrings (a substring is for example 2:nnnnn or 1:hhh; it contains the prefix) will be in decreasing order of their length and when they have the same length sorted in ascending lexicographic order (letters and digits - more precisely sorted by codepoint); the different groups will be separated by '/'. See examples and \"Example Tests\".\n",
    "\n",
    "Hopefully other examples can make this clearer.\n",
    "```Python\n",
    "s1 = \"my&friend&Paul has heavy hats! &\"\n",
    "s2 = \"my friend John has many many friends &\"\n",
    "mix(s1, s2) --> \"2:nnnnn/1:aaaa/1:hhh/2:mmm/2:yyy/2:dd/2:ff/2:ii/2:rr/=:ee/=:ss\"\n",
    "\n",
    "s1 = \"mmmmm m nnnnn y&friend&Paul has heavy hats! &\"\n",
    "s2 = \"my frie n d Joh n has ma n y ma n y frie n ds n&\"\n",
    "mix(s1, s2) --> \"1:mmmmmm/=:nnnnnn/1:aaaa/1:hhh/2:yyy/2:dd/2:ff/2:ii/2:rr/=:ee/=:ss\"\n",
    "\n",
    "s1=\"Are the kids at home? aaaaa fffff\"\n",
    "s2=\"Yes they are here! aaaaa fffff\"\n",
    "mix(s1, s2) --> \"=:aaaaaa/2:eeeee/=:fffff/1:tt/2:rr/=:hh\"\n",
    "```"
   ]
  },
  {
   "cell_type": "code",
   "execution_count": 1,
   "metadata": {},
   "outputs": [],
   "source": [
    "def mix(s1, s2):\n",
    "    s1_list = sorted([char for char in s1 if ((char.isalpha()) and (ord(char) >= 97) and s1.count(char) > 1)])\n",
    "    s1_set = list(set(s1_list))\n",
    "    s1_outputs = [s1_set[i] * s1.count(s1_set[i]) for i in range(len(s1_set))]\n",
    "    \n",
    "    s2_list = sorted([char for char in s2 if ((char.isalpha()) and (ord(char) >= 97) and s2.count(char) > 1)])\n",
    "    s2_set = list(set(s2_list))\n",
    "    s2_outputs = [s2_set[i] * s2.count(s2_set[i]) for i in range(len(s2_set))]\n",
    "    \n",
    "    output_strings = []\n",
    "    \n",
    "    for i in range(len(s1_outputs)):\n",
    "        curr_str = s1_outputs[i]\n",
    "        if (curr_str[0] not in s2_set):\n",
    "            output_strings.append(\"1:\" + curr_str)\n",
    "        elif s1_outputs[i] in s2_outputs:\n",
    "            output_strings.append(\"=:\" + curr_str)\n",
    "        elif (curr_str[0] in s2_set) and (len(curr_str) < len(s2_outputs[s2_set.index(curr_str[0])])):\n",
    "            output_strings.append(\"2:\" + s2_outputs[s2_set.index(curr_str[0])])\n",
    "        elif (curr_str[0] in s2_set) and (len(curr_str) > len(s2_outputs[s2_set.index(curr_str[0])])):\n",
    "            output_strings.append(\"1:\" + curr_str)\n",
    "    \n",
    "    used_letters = [string[2] for string in output_strings]      \n",
    "    output_strings.extend([\"2:\" + s2_outputs[i] for i in range(len(s2_outputs)) if s2_outputs[i][0] not in used_letters])\n",
    "    \n",
    "    output_lengths = sorted(set(map(len, output_strings)))\n",
    "    first_symb = [\"1\", \"2\", \"=\"]\n",
    "    output_str = \"\"\n",
    "    \n",
    "    for i in output_lengths[::-1]:\n",
    "        tmp_arr = [output for output in output_strings if len(output) == i]\n",
    "        tmp_arr = sorted(tmp_arr, key = lambda x : x[0])\n",
    "        for i in first_symb:\n",
    "            tmp_arr2 = [output for output in tmp_arr if output[0] == i]\n",
    "            tmp_arr2 = sorted(tmp_arr2, key = lambda x : x[2])\n",
    "            if len(tmp_arr2) > 0:\n",
    "                output_str += r\"/\".join(tmp_arr2) + r\"/\"\n",
    "                \n",
    "    return output_str[:-1]"
   ]
  },
  {
   "cell_type": "code",
   "execution_count": 2,
   "metadata": {},
   "outputs": [
    {
     "name": "stdout",
     "output_type": "stream",
     "text": [
      "=:aaaaaa/2:eeeee/=:fffff/1:tt/2:rr/=:hh\n",
      "\n",
      "1:mmmmmm/=:nnnnnn/1:aaaa/1:hhh/2:yyy/2:dd/2:ff/2:ii/2:rr/=:ee/=:ss\n"
     ]
    }
   ],
   "source": [
    "print(mix(\"Are the kids at home? aaaaa fffff\", \"Yes they are here! aaaaa fffff\") + \"\\n\")\n",
    "print(mix(\"mmmmm m nnnnn y&friend&Paul has heavy hats! &\", \"my frie n d Joh n has ma n y ma n y frie n ds n&\"))"
   ]
  }
 ],
 "metadata": {
  "kernelspec": {
   "display_name": "Python 3",
   "language": "python",
   "name": "python3"
  },
  "language_info": {
   "codemirror_mode": {
    "name": "ipython",
    "version": 3
   },
   "file_extension": ".py",
   "mimetype": "text/x-python",
   "name": "python",
   "nbconvert_exporter": "python",
   "pygments_lexer": "ipython3",
   "version": "3.8.5"
  }
 },
 "nbformat": 4,
 "nbformat_minor": 4
}
