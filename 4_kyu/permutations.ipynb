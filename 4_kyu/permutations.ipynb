{
 "cells": [
  {
   "cell_type": "markdown",
   "metadata": {},
   "source": [
    "# Permutations\n",
    "\n",
    "https://www.codewars.com/kata/5254ca2719453dcc0b00027d/train/python/6002454f56ebae00278f0a0c\n",
    "\n",
    "#### In this kata you have to create all permutations of an input string and remove duplicates, if present. This means, you have to shuffle all letters from the input in all possible orders.\n",
    "\n",
    "Examples:\n",
    "```\n",
    "permutations('a'); ['a']\n",
    "permutations('ab'); ['ab', 'ba']\n",
    "permutations('aabb'); ['aabb', 'abab', 'abba', 'baab', 'baba', 'bbaa']\n",
    "```\n",
    "\n",
    "The order of the permutations doesn't matter."
   ]
  },
  {
   "cell_type": "code",
   "execution_count": null,
   "metadata": {},
   "outputs": [],
   "source": [
    "from itertools import permutations as pm\n",
    "\n",
    "def permutations(string):\n",
    "    string_list = [char for char in string]\n",
    "    combs = set(pm(string_list))\n",
    "    string_list = [\"\".join(comb) for comb in combs]\n",
    "    return string_list"
   ]
  }
 ],
 "metadata": {
  "kernelspec": {
   "display_name": "Python 3",
   "language": "python",
   "name": "python3"
  },
  "language_info": {
   "codemirror_mode": {
    "name": "ipython",
    "version": 3
   },
   "file_extension": ".py",
   "mimetype": "text/x-python",
   "name": "python",
   "nbconvert_exporter": "python",
   "pygments_lexer": "ipython3",
   "version": "3.8.5"
  }
 },
 "nbformat": 4,
 "nbformat_minor": 4
}
