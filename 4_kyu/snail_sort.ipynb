{
 "cells": [
  {
   "cell_type": "markdown",
   "metadata": {},
   "source": [
    "# Snail Sort\n",
    "\n",
    "https://www.codewars.com/kata/521c2db8ddc89b9b7a0000c1/train/python\n",
    "\n",
    "### Given an n x n array, return the array elements arranged from outermost elements to the middle element, traveling clockwise.\n",
    "\n",
    "```Python\n",
    "array = [[1,2,3],\n",
    "         [4,5,6],\n",
    "         [7,8,9]]\n",
    "\n",
    "snail(array) == [1,2,3,6,9,8,7,4,5]\n",
    "```\n",
    "\n",
    "For better understanding, please follow the numbers of the next array consecutively:\n",
    "``` Python\n",
    "array = [[1,2,3],\n",
    "         [8,9,4],\n",
    "         [7,6,5]]\n",
    "\n",
    "snail(array) == [1,2,3,4,5,6,7,8,9]\n",
    "```\n",
    "\n",
    "\n",
    "NOTE: The idea is not sort the elements from the lowest value to the highest; the idea is to traverse the 2-d array in a clockwise snailshell pattern.\n",
    "\n",
    "NOTE 2: The 0x0 (empty matrix) is represented as en empty array inside an array [[]]."
   ]
  },
  {
   "cell_type": "code",
   "execution_count": null,
   "metadata": {},
   "outputs": [],
   "source": [
    "def snail(array):\n",
    "    snail_track = []\n",
    "    counter = 0\n",
    "    try:\n",
    "        while True and (counter < 10000):\n",
    "            snail_track.extend(array[0])\n",
    "            array.pop(0)\n",
    "\n",
    "            for arr in range(len(array[:-1])):\n",
    "                snail_track.append(array[arr][-1])\n",
    "                array[arr].pop(-1)\n",
    "                \n",
    "            snail_track.extend(array[-1][::-1])\n",
    "            array.pop(-1)\n",
    "\n",
    "            for arr in range(len(array))[::-1]:\n",
    "                snail_track.append(array[arr][0])\n",
    "                array[arr].pop(0)\n",
    "            counter += 1\n",
    "    except IndexError: return snail_track"
   ]
  }
 ],
 "metadata": {
  "kernelspec": {
   "display_name": "Python 3",
   "language": "python",
   "name": "python3"
  },
  "language_info": {
   "codemirror_mode": {
    "name": "ipython",
    "version": 3
   },
   "file_extension": ".py",
   "mimetype": "text/x-python",
   "name": "python",
   "nbconvert_exporter": "python",
   "pygments_lexer": "ipython3",
   "version": "3.8.5"
  }
 },
 "nbformat": 4,
 "nbformat_minor": 4
}
