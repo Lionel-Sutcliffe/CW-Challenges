{
 "cells": [
  {
   "cell_type": "markdown",
   "metadata": {},
   "source": [
    "# Is my friend cheating?\n",
    "\n",
    "https://www.codewars.com/kata/5547cc7dcad755e480000004\n",
    "\n",
    "A friend of mine takes a sequence of numbers from 1 to n (where n > 0).\n",
    "Within that sequence, he chooses two numbers, a and b.\n",
    "He says that the product of a and b should be equal to the sum of all numbers in the sequence, excluding a and b.\n",
    "Given a number n, could you tell me the numbers he excluded from the sequence?\n",
    "The function takes the parameter: n (n is always strictly greater than 0) and returns an array or a string (depending on the language) of the form:\n",
    "\n",
    "[(a, b), ...] or [[a, b], ...] or {{a, b}, ...} or or [{a, b}, ...]\n",
    "with all (a, b) which are the possible removed numbers in the sequence 1 to n.\n",
    "\n",
    "[(a, b), ...] or [[a, b], ...] or {{a, b}, ...} or ...will be sorted in increasing order of the \"a\".\n",
    "\n",
    "It happens that there are several possible (a, b). The function returns an empty array (or an empty string) if no possible numbers are found which will prove that my friend has not told the truth! (Go: in this case return nil).\n",
    "\n",
    "Examples:\n",
    "\n",
    "``` Python\n",
    "removNb(26) should return [(15, 21), (21, 15)]\n",
    "```"
   ]
  },
  {
   "cell_type": "code",
   "execution_count": 1,
   "metadata": {},
   "outputs": [],
   "source": [
    "def remov_nb(n):\n",
    "    answers = []\n",
    "    my_range = range(1,n+1)\n",
    "    my_sum = (n + 1) * n * 0.5\n",
    "    \n",
    "    for i in my_range:\n",
    "        if (my_sum - i) / (i + 1) % 1 == 0 and (i ** 2 - i * my_sum != 0) and ((my_sum - i) / (i + 1) <= n):\n",
    "            answers.append((int(i), int((my_sum - i) / (i + 1))))\n",
    "    return answers"
   ]
  }
 ],
 "metadata": {
  "kernelspec": {
   "display_name": "Python 3",
   "language": "python",
   "name": "python3"
  },
  "language_info": {
   "codemirror_mode": {
    "name": "ipython",
    "version": 3
   },
   "file_extension": ".py",
   "mimetype": "text/x-python",
   "name": "python",
   "nbconvert_exporter": "python",
   "pygments_lexer": "ipython3",
   "version": "3.8.5"
  }
 },
 "nbformat": 4,
 "nbformat_minor": 4
}
