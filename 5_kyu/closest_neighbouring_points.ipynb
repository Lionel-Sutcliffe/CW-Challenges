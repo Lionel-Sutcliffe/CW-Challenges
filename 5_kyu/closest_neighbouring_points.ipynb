{
 "cells": [
  {
   "cell_type": "markdown",
   "metadata": {},
   "source": [
    "# Closest Neighbouring Points\n",
    "\n",
    "https://www.codewars.com/kata/55e47815d7055e1a97000128\n",
    "\n",
    "We need a function, closest_points3D() that may give an accurate result to find the closest pair or pairs of points that are contained in cube volumes of size l. The function will receive a list of variable number of points in a list (each point represented with cartesian coordinates(x, y, z)). All the values of x, y and z, will be positive integers. The function closest_points3D(), should display the results in the following way:\n",
    "\n",
    "[(1), (2), (3)]\n",
    "\n",
    "(1) - Number of points received (2) - Pair or pairs of closest points in a sorted list of tuples(each tuple having the 3D coordinates (x, y, z) of the encountered closest points) (3) - The distance of this pair or these pairs of found closes points, that is the minimal distance between every possible pair of the given of points. This value will be expessed as a float with at most, 5 decimal digits (rounded result).\n",
    "\n",
    "Let's see some cases.\n",
    "```Python\n",
    "l(size of the cube) = 10\n",
    "listPointsI = [(9, 8, 5), (4, 2, 3), (10, 7, 4), (0, 9, 7), (3, 2, 6), (5, 8, 4), (1, 9, 6), (4, 5, 6), (5, 10, 10), (8, 8, 2)]\n",
    "closest_points3D(listPointsI) -----> [10, [[(0, 9, 7), (1, 9, 6)]], 1.41421]\n",
    "\n",
    "l = 20\n",
    "listPointsII = [(19, 0, 1), (15, 17, 19), (19, 17, 0), (14, 5, 3), (18, 11, 7),\\\n",
    " (12, 15, 19), (19, 7, 6), (12, 13, 3), (1, 2, 17), (10, 19, 20), (1, 4, 16),\\\n",
    " (3, 17, 10), (18, 17, 15), (6, 3, 2), (17, 8, 3), (4, 14, 17), (7, 0, 3),\\\n",
    " (3, 17, 18), (9, 4, 18), (16, 15, 13)]\n",
    "closest_points3D(listPointsII) ------> [20, [[(1, 2, 17), (1, 4, 16)]], 2.23607]\n",
    "```\n",
    "\n",
    "(Your code should be able to process lists of points up to 1000 length in the allowed runtime for testing) (You don't have to deal with the size of the cube (l) in your function, each set of points have been prepared for you with different values of l.) Happy coding!!"
   ]
  },
  {
   "cell_type": "code",
   "execution_count": null,
   "metadata": {},
   "outputs": [],
   "source": [
    "def closest_points3D(pointsL):\n",
    "    pointsL = sorted(pointsL)\n",
    "    minimum = float(\"Inf\")\n",
    "    points = []\n",
    "    amount_points = len(pointsL)\n",
    "    range_points = range(amount_points)\n",
    "    distance = lambda a, b: ((a[0] - b[0]) ** 2 + (a[1] - b[1])** 2 + (a[2] - b[2]) ** 2) ** 0.5\n",
    "    \n",
    "    for i in range_points:\n",
    "        for n in range_points[1:]:\n",
    "            if(n < i):\n",
    "                continue\n",
    "            if(n == i):\n",
    "                continue\n",
    "            if (pointsL[i] in points) and (pointsL[n] in points):\n",
    "                continue\n",
    "            dist = round(distance(pointsL[i], pointsL[n]),5)\n",
    "            if dist < minimum:\n",
    "                points = [sorted([pointsL[i], pointsL[n]])]\n",
    "                minimum = dist\n",
    "            if (dist == minimum) and (pointsL[i] not in points[0]):\n",
    "                points.append(sorted(list((pointsL[i],pointsL[n]))))\n",
    "    return [amount_points, points, round(minimum,5)]"
   ]
  }
 ],
 "metadata": {
  "kernelspec": {
   "display_name": "Python 3",
   "language": "python",
   "name": "python3"
  },
  "language_info": {
   "codemirror_mode": {
    "name": "ipython",
    "version": 3
   },
   "file_extension": ".py",
   "mimetype": "text/x-python",
   "name": "python",
   "nbconvert_exporter": "python",
   "pygments_lexer": "ipython3",
   "version": "3.8.5"
  }
 },
 "nbformat": 4,
 "nbformat_minor": 4
}
