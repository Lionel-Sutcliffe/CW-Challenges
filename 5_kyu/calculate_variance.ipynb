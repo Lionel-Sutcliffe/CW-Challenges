{
 "cells": [
  {
   "cell_type": "markdown",
   "metadata": {},
   "source": [
    "# Calculate Variance\n",
    "\n",
    "https://www.codewars.com/kata/5266fba01283974e720000fa\n",
    "\n",
    "Write a function which will accept a sequence of numbers and calculate the variance for the sequence.\n",
    "\n",
    "The variance for a set of numbers is found by subtracting the mean from every value, squaring the results, adding them all up and dividing by the number of elements.\n",
    "\n",
    "\n",
    "For example, in pseudo code, to calculate the variance for [1, 2, 2, 3].\n",
    "```Python\n",
    "mean = (1 + 2 + 2 + 3) / 4\n",
    "=> 2\n",
    "\n",
    "variance = ((1 - 2)^2 + (2 - 2)^2 + (2-2)^2 + (3 - 2)^2)  /  4\n",
    "=> 0.5\n",
    "```\n",
    "The results are tested after being rounded to 4 decimal places using Javascript's toFixed method."
   ]
  },
  {
   "cell_type": "code",
   "execution_count": 1,
   "metadata": {},
   "outputs": [],
   "source": [
    "def variance(numbers): \n",
    "    mean = sum(numbers) / len(numbers)\n",
    "    variance = sum([(i-mean)**2 for i in numbers]) / len(numbers)\n",
    "    return variance"
   ]
  }
 ],
 "metadata": {
  "kernelspec": {
   "display_name": "Python 3",
   "language": "python",
   "name": "python3"
  },
  "language_info": {
   "codemirror_mode": {
    "name": "ipython",
    "version": 3
   },
   "file_extension": ".py",
   "mimetype": "text/x-python",
   "name": "python",
   "nbconvert_exporter": "python",
   "pygments_lexer": "ipython3",
   "version": "3.8.5"
  }
 },
 "nbformat": 4,
 "nbformat_minor": 4
}
