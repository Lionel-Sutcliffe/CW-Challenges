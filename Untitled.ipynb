{
 "cells": [
  {
   "cell_type": "markdown",
   "metadata": {},
   "source": [
    "# Having some fun building a very basic hashed password table in a CSV file\n",
    "\n",
    "## Features:\n",
    "#### Retrieve user IP data with url requests to geolocation-db.com\n",
    "> - Catch User's private IP data, country code etc. and add it to database upon account creation and every subsequent login (does not work if user is on a VPN), gotta fix it to catch public IP too\n",
    "\n",
    "#### Encrypt and decrypt password Table using symmetric 128 bit encryption\n",
    "> - Using cryptography's Fernet library, encrypt and decrypt the password table using a locally stored key. Key generation, encryption and decryption are handled.\n",
    "\n",
    "#### Salt and pepper passwords before SHA512 hashing multiple times\n",
    "> - Salt locations derived from user birthdate data, salts ultimately computed using and transforming user-specific data in various different ways (birthday, user name, mail)\n",
    "> - Salts hashed with SHA512, peppers hashed with MD5\n",
    "> - Specific characters replaced before SHA512 hashing multiple times (amount of hashing dependent on user birthdays)\n",
    "\n",
    "#### User creation\n",
    "> - Create a user object given a username, password, e-mail, and birth date. IP Data such as country code and IPv4 address are stored in the database CSV upon account creation.\n",
    "> - Database is checked to see if an account has previously been created with that specific user name or e-mail. Account creation is prevented if user name or e-mail are already in the database.\n",
    "> - Check if password meets security criteria (min. 15 characters, min. one uppercase, min. one lower-case, min. one special character) and if it doesn't user account is not created and not added to the database.\n",
    "\n",
    "#### User functions\n",
    "> - Users can change their passwords by inputting their old password and desired new passwords. Old password is hashed and compared to hash in data table.\n",
    "> - Getters for user data (Setters not programmed yet apart from change_pw password setter).\n",
    "\n",
    "#### Admin functionalities for user management\n",
    "> - Delete a user from the database\n",
    "> - Output a user summary (includes user name, birth date, e-mail, date joined, IPv4 addresses logged in from, country codes for countries logged in from)\n",
    "\n",
    "#### Login Function\n",
    "> - Hashes the inputted password, compares hash with user's hash in database, if hash is not the same, times out user for 3 seconds (brute force prevention). If it is the same, login is successful.\n",
    "\n",
    "## Disclaimer:\n",
    "\n",
    "- Since this is just meant to be a fun project of mine and all data is stored locally and in the same file (no API calls to off-site database holding user hash tables, no API calls to off-site hashing module, encryption keys in same folder etc.) Do not even consider using parts of this script for any real-life applications. It's just me figuring out some stuff and creating a cheatsheet while doing so.\n",
    "\n",
    "- I've only included this output file in the repository. Other files have been used but have not been included.\n",
    "\n",
    "- The code is very basic and my first delve into cryptography combined with database generation etc. It is very simplistic and could use a lot of polishing here and there. \"Learning by doing\" type of project."
   ]
  },
  {
   "cell_type": "code",
   "execution_count": 1,
   "metadata": {},
   "outputs": [],
   "source": [
    "import hashlib\n",
    "import pandas as pd\n",
    "from csv import writer\n",
    "from datetime import datetime\n",
    "import math\n",
    "import sys\n",
    "import warnings\n",
    "from cryptography.fernet import Fernet\n",
    "import sympy\n",
    "import time\n",
    "import urllib.request\n",
    "import json\n",
    "from time import perf_counter\n",
    "\n",
    "warnings.filterwarnings(\"ignore\")"
   ]
  },
  {
   "cell_type": "markdown",
   "metadata": {},
   "source": [
    "### Compute primes, save them to txt file and read txt file functionality for later computations"
   ]
  },
  {
   "cell_type": "code",
   "execution_count": 2,
   "metadata": {},
   "outputs": [],
   "source": [
    "def gen_primes(limit, to_file = True, filename = \"primes.txt\"):\n",
    "    primes = list(sympy.primerange(0, limit))\n",
    "    if to_file == True:\n",
    "        MyFile=open('primes.txt','w')\n",
    "        MyFile.write(\",\".join(map(str,primes)))\n",
    "        MyFile.close()\n",
    "    else:\n",
    "        return primes\n",
    "\n",
    "def get_primes(filename = \"primes.txt\", delimiter = \",\"):\n",
    "    primes_reader = open(filename,\"r+\")\n",
    "    primes = list(map(int,(primes_reader.read()).split(delimiter)))\n",
    "    primes_reader.close()\n",
    "    return primes"
   ]
  },
  {
   "cell_type": "code",
   "execution_count": 3,
   "metadata": {},
   "outputs": [],
   "source": [
    "gen_primes(2000000)\n",
    "primes = get_primes()"
   ]
  },
  {
   "cell_type": "markdown",
   "metadata": {},
   "source": [
    "### File Encryption utility"
   ]
  },
  {
   "cell_type": "code",
   "execution_count": 4,
   "metadata": {},
   "outputs": [],
   "source": [
    "def write_key():\n",
    "    key = Fernet.generate_key()\n",
    "    with open(\"key.key\", \"wb\") as key_file:\n",
    "        key_file.write(key)\n",
    "\n",
    "write_key()\n",
    "\n",
    "def load_key():\n",
    "    return open(\"key.key\", \"rb\").read()\n",
    "\n",
    "my_key = load_key()\n",
    "\n",
    "def encrypt(filename, key, printer = True):\n",
    "    f = Fernet(key)\n",
    "    with open(filename, \"rb\") as file:\n",
    "        file_data = file.read()\n",
    "    encrypted_data = f.encrypt(file_data)\n",
    "    with open(filename, \"wb\") as file:\n",
    "        file.write(encrypted_data)\n",
    "    if printer == True:\n",
    "        print(\"{} has been encrypted.\".format(filename))\n",
    "        \n",
    "def decrypt(filename, key, printer = True):\n",
    "    f = Fernet(key)\n",
    "    with open(filename, \"rb\") as file:\n",
    "        encrypted_data = file.read()\n",
    "    decrypted_data = f.decrypt(encrypted_data)\n",
    "    with open(filename, \"wb\") as file:\n",
    "        file.write(decrypted_data)\n",
    "    if printer == True:\n",
    "        print(\"{} has been decrypted.\".format(filename))"
   ]
  },
  {
   "cell_type": "markdown",
   "metadata": {},
   "source": [
    "### Password Hashing Method"
   ]
  },
  {
   "cell_type": "code",
   "execution_count": 5,
   "metadata": {},
   "outputs": [],
   "source": [
    "def hasher(pw, bday, mail, username):\n",
    "    pw1 = pw[::-1]\n",
    "    pw2 = [ord(char) * ord(mail[-1]) for char in pw1]\n",
    "    pw3 = [ord(char) for char in pw1]\n",
    "    bday = pd.to_datetime(bday, format = \"%d-%m-%Y\")\n",
    "    salt_pos = [int(bday.day/2 - 2), bday.month, int(str(bday.year)[-1])]\n",
    "    salt1 = hashlib.sha512(username.encode(\"utf-8\")).hexdigest()[:int(str(bday.year)[3])]\n",
    "    user1_m_sum = sum([ord(char) for char in mail])\n",
    "    user1_u_sum = sum([ord(char) for char in username])\n",
    "    salt2 = (primes[int((len(pw1) * sum(pw2))**0.5)] * (bday.year - bday.day - bday.month) * 41)\n",
    "    salt2 = hashlib.sha512(str(salt2).encode(\"utf-8\")).hexdigest()\n",
    "    salt2 = sum([ord(char) * primes[ord(char) ** 2] for char in salt2])\n",
    "    salt2 = hashlib.sha512(str(salt2).encode(\"utf-8\")).hexdigest()\n",
    "    salt3 = primes[int(sum([ord(char) for char in salt2])**0.5)] ** user1_m_sum ** 0.02\n",
    "    salt3 = hashlib.sha512(str(salt3).encode(\"utf-8\")).hexdigest()[0:bday.day*2]\n",
    "    salt3 = \"\".join([chr(int(ord(char) - int((bday.month * 4)**0.5))) for char in salt3])\n",
    "    salt3 = hashlib.sha512(str(salt3).encode(\"utf-8\")).hexdigest()\n",
    "    pepper = int(str(user1_m_sum)[-2:]) * int(str(user1_u_sum)[-2:]) * primes[-int(str(bday.year)[3:])]**10\n",
    "    tmp_pepper = pepper\n",
    "    pepper = hashlib.md5(str(pepper).encode(\"utf-8\")).hexdigest()\n",
    "    pw4 = [0 for i in range(len(pw1) + 5)]\n",
    "    pw4[salt_pos[0]] = salt1\n",
    "    pw4[salt_pos[1]] = salt2\n",
    "    pw4[salt_pos[2]] = salt3\n",
    "    pw4[-1] = pepper\n",
    "    pw4[0] = pepper\n",
    "    counter = 0\n",
    "    pw1 = pw1 * 5\n",
    "    for i in range(len(pw4)):\n",
    "        if pw4[i] == 0:\n",
    "            pw4[i] = pw1[counter]\n",
    "            counter += 1\n",
    "    pw4 = \"\".join(pw4)\n",
    "    pw4 = pw4.replace(\"b\", \"!\")\n",
    "    pw4 = pw4.replace(\"0\", \"b\")\n",
    "    pw4 = pw4.replace(\"f\", \"0\")\n",
    "    pw4 = pw4.replace(\"2\", \"f\")\n",
    "    pw4 = [char for char in pw4]\n",
    "    for i in pw3:\n",
    "        pw4[i] = \"2\"\n",
    "    for i in range(bday.day):\n",
    "        if i % 2 == 0:\n",
    "            pw4 = hashlib.sha256(str(pw4).encode(\"utf-8\")).hexdigest()\n",
    "        else:\n",
    "            pw4 = hashlib.sha512(str(pw4).encode(\"utf-8\")).hexdigest()\n",
    "            tmp_pepper = hashlib.sha512(str(pw4).encode(\"utf-8\")).hexdigest()\n",
    "\n",
    "    pw4 = hashlib.sha512(str(pw4).encode(\"utf-8\")).hexdigest() + tmp_pepper\n",
    "    pw4 = \"\".join([char for char in pw4][:int((primes[bday.year*10] ** 0.4 + primes[bday.year*10] ** 0.01))])\n",
    "    pw4 = (hashlib.sha512(str(pw4).encode(\"utf-8\")).hexdigest() + tmp_pepper)\n",
    "\n",
    "    return pw4"
   ]
  },
  {
   "cell_type": "markdown",
   "metadata": {},
   "source": [
    "### Database utility functions"
   ]
  },
  {
   "cell_type": "code",
   "execution_count": 6,
   "metadata": {},
   "outputs": [],
   "source": [
    "file_name = \"testDB1.csv\"\n",
    "\n",
    "def new_db(file_name):\n",
    "    db_structure = {\"username\" : [],\n",
    "                    \"hashed_pw\" : [],\n",
    "                    \"mail\" : [],\n",
    "                    \"birthdate\" : [],\n",
    "                    \"joined\" : [],\n",
    "                    \"IPv4\" : [],\n",
    "                    \"country_code\" : []}\n",
    "    new_df = pd.DataFrame(data = db_structure)\n",
    "    new_df.to_csv(file_name)\n",
    "    return new_df\n",
    "\n",
    "def append_list_as_row(db_name, list_elems):\n",
    "    with open(file_name, 'a+', newline='') as write_obj:\n",
    "        csv_writer = writer(write_obj)\n",
    "        indx = [\"\"]\n",
    "        list_elems = indx.extend(list_elems)\n",
    "        csv_writer.writerow(indx)\n",
    "\n",
    "def IP_data():\n",
    "    with urllib.request.urlopen(\"https://geolocation-db.com/json\") as url:\n",
    "        data = json.loads(url.read().decode())\n",
    "    return(data)\n",
    "\n",
    "def read_DB(filename = file_name, ommit_IPv4 = True):\n",
    "    db = pd.read_csv(filename)\n",
    "    try:\n",
    "        if ommit_IPv4 == True:\n",
    "            db.loc[:, \"IPv4\"] = \"XXXX\"\n",
    "    except:\n",
    "        pass\n",
    "    return db"
   ]
  },
  {
   "cell_type": "markdown",
   "metadata": {},
   "source": [
    "### User Class"
   ]
  },
  {
   "cell_type": "code",
   "execution_count": 7,
   "metadata": {},
   "outputs": [],
   "source": [
    "class user():\n",
    "    def __init__(self, username, mail, birthdate, password, db = file_name):\n",
    "        self.db = db\n",
    "        self.db_read = pd.read_csv(db)\n",
    "        self.u = username\n",
    "        self.m = mail\n",
    "        self.bday = pd.to_datetime(birthdate, format = \"%d-%m-%Y\")\n",
    "        self.pw = password\n",
    "        self.joined = datetime.now()\n",
    "        self.data = IP_data()\n",
    "        self.IPv4 = self.data[\"IPv4\"]\n",
    "        self.country = self.data[\"country_code\"]\n",
    "        pw_conditions = True\n",
    "        \n",
    "        error_message = (\"Password must contain at least 15 characters and include at least 1 uppercase, 1 lower case, 1 number and 1 special character (i.e.: $, ?, !, *, [, . etc.). \\n \\\n",
    "        Account has not been created.\")\n",
    "        if len(self.pw) >= 15:\n",
    "            self.chars_special = sum([1 for char in self.pw if char.isalpha() == False and char.isnumeric() == False])\n",
    "            self.chars_number = sum([1 for char in self.pw if char.isnumeric() == True])\n",
    "            self.chars_lowercase = sum([1 for char in self.pw if ord(char) >= 97 and ord(char) <= 122])\n",
    "            self.chars_uppercase = sum([1 for char in self.pw if ord(char) >= 65 and ord(char) <= 90])\n",
    "            self.password_characteristics = [self.chars_special, self.chars_number, self.chars_lowercase, self.chars_uppercase]\n",
    "            self.password_characteristics = sum([1 for char in self.password_characteristics if char > 0])\n",
    "            if self.password_characteristics != 4:\n",
    "                print(error_message)\n",
    "                pw_conditions = False\n",
    "        else:\n",
    "            print(error_message)\n",
    "        \n",
    "        self.pw = hasher(self.pw, self.bday, self.m, self.u)\n",
    "        \n",
    "        if pw_conditions == True:\n",
    "            if (self.u in list(self.db_read.loc[:,\"username\"]) or self.m in list(self.db_read.loc[:,\"mail\"])):\n",
    "                print(\"There's already an account registered under that username or e-mail address\")\n",
    "            else:\n",
    "                append_list_as_row(self.db, [self.u, self.pw, self.m, self.bday, self.joined, self.IPv4, self.country])\n",
    "                print(\"Successfully created account for {} with mail {}.\".format(self.u, self.m))\n",
    "            \n",
    "    def delete(self):\n",
    "        try:\n",
    "            self.db_read = pd.read_csv(self.db)\n",
    "            self.db_relevant = self.db_read.loc[self.db_read[\"username\"] == self.u]\n",
    "            self.indx = self.db_relevant[self.db_read[\"username\"] == self.u].index[0]\n",
    "            self.db_read.drop([self.indx], inplace = True)\n",
    "            self.db_read.to_csv(file_name, index = False)\n",
    "            print(\"Successfully deleted user {} from the database.\".format(self.u))\n",
    "        except IndexError:\n",
    "            print(\"{}'s account has already been deleted.\".format(self.u))\n",
    "    \n",
    "    def get_name(self):\n",
    "        print(\"User Name: {}\".format(self.u))\n",
    "        return self.u\n",
    "    \n",
    "    def get_bday(self):\n",
    "        print(\"Birth Day: {}\".format(self.bday))\n",
    "        return self.bday\n",
    "    \n",
    "    def get_mail(self):\n",
    "        print(\"Mail address: {}\".format(self.m))\n",
    "        return self.m\n",
    "    \n",
    "    def get_hash(self):\n",
    "        print(\"Password Hash: {}\".format(self.pw))\n",
    "        return self.pw\n",
    "    \n",
    "    def summary(self, gethash = False):\n",
    "        print(\"_________________________________________\\n\")\n",
    "        print(\"User Name: {}\".format(self.u))\n",
    "        print(\"Joined on: {}\".format(self.joined))\n",
    "        print(\"E-Mail: {}\".format(self.m))\n",
    "        print(\"IPv4: XXXXX\".format(self.IPv4))\n",
    "        print(\"Country Code: {}\".format(self.country))\n",
    "        print(\"_________________________________________\")\n",
    "        if gethash == True:\n",
    "            print(\"Password Hash: {}\".format(self.pw))\n",
    "            \n",
    "    def pw_check(self, oldpw):\n",
    "        self.db_read = pd.read_csv(self.db)\n",
    "        if self.pw != hasher(oldpw, self.bday, self.m, self.u):\n",
    "            return False\n",
    "        else:\n",
    "            return True\n",
    "    \n",
    "    def change_pw(self, oldpw, newpw):\n",
    "        self.db_read = pd.read_csv(self.db)\n",
    "        if user.pw_check(self, oldpw) == False:\n",
    "            print(\"You've entered the wrong password. Password hasn't been changed.\")\n",
    "        else:\n",
    "            self.pw = hasher(newpw, self.bday, self.m, self.u)\n",
    "            self.db_read = pd.read_csv(self.db)\n",
    "            self.db_relevant = self.db_read.loc[self.db_read[\"username\"] == self.u]\n",
    "            self.indx = self.db_relevant[self.db_read[\"username\"] == self.u].index[0]\n",
    "            self.db_read.hashed_pw[self.db_read.username == self.u] = hasher(newpw, self.bday, self.m, self.u)\n",
    "            self.db_read.to_csv(file_name, index = False)\n",
    "            print(\"You've successfully set a new password.\")"
   ]
  },
  {
   "cell_type": "markdown",
   "metadata": {},
   "source": [
    "### Login Method"
   ]
  },
  {
   "cell_type": "code",
   "execution_count": 8,
   "metadata": {},
   "outputs": [],
   "source": [
    "def login(username, password, file_name):\n",
    "    db_read = pd.read_csv(file_name)\n",
    "    db_relevant = db_read.loc[db_read[\"username\"] == username]\n",
    "    bday = pd.to_datetime(db_relevant.loc[db_relevant.index[0],\"birthdate\"])\n",
    "    mail = db_relevant.loc[db_relevant.index[0],\"mail\"]\n",
    "    IPv4 = IP_data()\n",
    "    \n",
    "    if hasher(password, bday, mail, username) == db_relevant.loc[db_relevant.index[0],\"hashed_pw\"]:\n",
    "        all_IPv4 = db_relevant.loc[db_relevant.index[0],\"IPv4\"].split(\"+\")\n",
    "        all_countries = db_relevant.loc[db_relevant.index[0],\"country_code\"].split(\"+\")\n",
    "        if IPv4[\"IPv4\"] not in all_IPv4:\n",
    "            print(\"You are logging in from a new device.\")\n",
    "            db_read.IPv4[db_read.username == username] += \"+\" + IPv4[\"IPv4\"] + \"+\"\n",
    "        if IPv4[\"country_code\"] not in all_countries:\n",
    "            print(\"You are logging in from a new country.\")\n",
    "            db_read.country_code[db_read.username == username] += \"+\" + IPv4[\"country_code\"] + \"+\"\n",
    "        print(\"Login successful.\")\n",
    "        db_read.to_csv(file_name, index = False)\n",
    "        return True\n",
    "    else:\n",
    "        print(\"Invalid e-mail or password.\")\n",
    "        time.sleep(3)\n",
    "        return False"
   ]
  },
  {
   "cell_type": "markdown",
   "metadata": {},
   "source": [
    "### Code demo"
   ]
  },
  {
   "cell_type": "code",
   "execution_count": 9,
   "metadata": {},
   "outputs": [],
   "source": [
    "d = new_db(file_name)"
   ]
  },
  {
   "cell_type": "code",
   "execution_count": 10,
   "metadata": {},
   "outputs": [
    {
     "name": "stdout",
     "output_type": "stream",
     "text": [
      "Successfully created account for user1 with mail example@mail.com.\n",
      "Successfully created account for user2 with mail 2example@mail.com.\n",
      "Successfully created account for user3 with mail 3example@mail.com.\n",
      "There's already an account registered under that username or e-mail address\n",
      "Time to create 4 users and hash their passwords on my current device : 1.4988399999999977s\n"
     ]
    },
    {
     "data": {
      "text/html": [
       "<div>\n",
       "<style scoped>\n",
       "    .dataframe tbody tr th:only-of-type {\n",
       "        vertical-align: middle;\n",
       "    }\n",
       "\n",
       "    .dataframe tbody tr th {\n",
       "        vertical-align: top;\n",
       "    }\n",
       "\n",
       "    .dataframe thead th {\n",
       "        text-align: right;\n",
       "    }\n",
       "</style>\n",
       "<table border=\"1\" class=\"dataframe\">\n",
       "  <thead>\n",
       "    <tr style=\"text-align: right;\">\n",
       "      <th></th>\n",
       "      <th>Unnamed: 0</th>\n",
       "      <th>username</th>\n",
       "      <th>hashed_pw</th>\n",
       "      <th>mail</th>\n",
       "      <th>birthdate</th>\n",
       "      <th>joined</th>\n",
       "      <th>IPv4</th>\n",
       "      <th>country_code</th>\n",
       "    </tr>\n",
       "  </thead>\n",
       "  <tbody>\n",
       "    <tr>\n",
       "      <th>0</th>\n",
       "      <td>NaN</td>\n",
       "      <td>user1</td>\n",
       "      <td>6d7b66f94d6cd91181f3909ec08942ff390c7e67edce12...</td>\n",
       "      <td>example@mail.com</td>\n",
       "      <td>1996-08-12 00:00:00</td>\n",
       "      <td>2021-01-21 13:57:16.875922</td>\n",
       "      <td>XXXX</td>\n",
       "      <td>CH</td>\n",
       "    </tr>\n",
       "    <tr>\n",
       "      <th>1</th>\n",
       "      <td>NaN</td>\n",
       "      <td>user2</td>\n",
       "      <td>f945a65d9cee8a48a4c34a41209468d292526fbf4b183c...</td>\n",
       "      <td>2example@mail.com</td>\n",
       "      <td>1996-08-12 00:00:00</td>\n",
       "      <td>2021-01-21 13:57:17.315936</td>\n",
       "      <td>XXXX</td>\n",
       "      <td>CH</td>\n",
       "    </tr>\n",
       "    <tr>\n",
       "      <th>2</th>\n",
       "      <td>NaN</td>\n",
       "      <td>user3</td>\n",
       "      <td>d7a36470d5e0d65aa35337e64ec1916f8a7806c56771fe...</td>\n",
       "      <td>3example@mail.com</td>\n",
       "      <td>1994-03-17 00:00:00</td>\n",
       "      <td>2021-01-21 13:57:17.614871</td>\n",
       "      <td>XXXX</td>\n",
       "      <td>CH</td>\n",
       "    </tr>\n",
       "  </tbody>\n",
       "</table>\n",
       "</div>"
      ],
      "text/plain": [
       "   Unnamed: 0 username                                          hashed_pw  \\\n",
       "0         NaN    user1  6d7b66f94d6cd91181f3909ec08942ff390c7e67edce12...   \n",
       "1         NaN    user2  f945a65d9cee8a48a4c34a41209468d292526fbf4b183c...   \n",
       "2         NaN    user3  d7a36470d5e0d65aa35337e64ec1916f8a7806c56771fe...   \n",
       "\n",
       "                mail            birthdate                      joined  IPv4  \\\n",
       "0   example@mail.com  1996-08-12 00:00:00  2021-01-21 13:57:16.875922  XXXX   \n",
       "1  2example@mail.com  1996-08-12 00:00:00  2021-01-21 13:57:17.315936  XXXX   \n",
       "2  3example@mail.com  1994-03-17 00:00:00  2021-01-21 13:57:17.614871  XXXX   \n",
       "\n",
       "  country_code  \n",
       "0           CH  \n",
       "1           CH  \n",
       "2           CH  "
      ]
     },
     "execution_count": 10,
     "metadata": {},
     "output_type": "execute_result"
    }
   ],
   "source": [
    "start = perf_counter()\n",
    "user1 = user(\"user1\", \"example@mail.com\", \"12-08-1996\", \"123>GH!!abcdefghijklmnopq\")\n",
    "user2 = user(\"user2\", \"2example@mail.com\", \"12-08-1996\", \"123>GH!!abcdefghijklmnop76\")\n",
    "user3 = user(\"user3\", \"3example@mail.com\", \"17-03-1994\", \"9213raMdsoadaj!!£ààé463\")\n",
    "user4 = user(\"user3\", \"3example@mail.com\", \"17-06-1983\", \"532875113raMdsdasifasoadaj!!£ààé463\")\n",
    "print(\"Time to create 4 users and hash their passwords on my current device : {}s\".format(perf_counter()-start))\n",
    "read_DB()"
   ]
  },
  {
   "cell_type": "code",
   "execution_count": 11,
   "metadata": {},
   "outputs": [
    {
     "name": "stdout",
     "output_type": "stream",
     "text": [
      "Login successful.\n",
      "Invalid e-mail or password.\n",
      "Invalid e-mail or password.\n",
      "User locked out 2 times, total elapsed time with hash comparisons and retrieval from DB : 7.851395\n"
     ]
    }
   ],
   "source": [
    "start = perf_counter()\n",
    "login(\"user3\", \"9213raMdsoadaj!!£ààé463\", file_name)\n",
    "login(\"user3\", \"9213raMdsoadaj!sdaa!£ààé463\", file_name)\n",
    "login(\"user3\", \"9213raMdsoadaj!sdaa!£ààé463\", file_name)\n",
    "print(\"User locked out 2 times, total elapsed time with hash comparisons and retrieval from DB : {}\".format(perf_counter() - start))"
   ]
  },
  {
   "cell_type": "markdown",
   "metadata": {},
   "source": [
    "*Ommitted IPv4 addresses in outputs due to privacy concerns*"
   ]
  },
  {
   "cell_type": "code",
   "execution_count": 12,
   "metadata": {},
   "outputs": [
    {
     "name": "stdout",
     "output_type": "stream",
     "text": [
      "_________________________________________\n",
      "\n",
      "User Name: user3\n",
      "Joined on: 2021-01-21 13:57:17.614871\n",
      "E-Mail: 3example@mail.com\n",
      "IPv4: XXXXX\n",
      "Country Code: CH\n",
      "_________________________________________\n",
      "Password Hash: d7a36470d5e0d65aa35337e64ec1916f8a7806c56771fe6d51c8d5168b6542d3661e9d7f2f8ba29be0ab330c651ff1fb971785f99f4c3425bc212035dabbf611dee7f0604311590effecdb1a10f7d61dafab3c6f2f33eb9d07e60b748913ada3a296592a10c637b8d73f0d4c5eacfa871d0374209caeaa107cdfe87e29217142\n"
     ]
    }
   ],
   "source": [
    "user3.summary(gethash = True)"
   ]
  },
  {
   "cell_type": "code",
   "execution_count": 13,
   "metadata": {},
   "outputs": [
    {
     "name": "stdout",
     "output_type": "stream",
     "text": [
      "You've successfully set a new password.\n",
      "You've entered the wrong password. Password hasn't been changed.\n"
     ]
    }
   ],
   "source": [
    "user3.change_pw(\"9213raMdsoadaj!!£ààé463\", \"dnasCoansca789!!90\")\n",
    "user3.change_pw(\"kasadadaö12$$34KKasdawQQwwq\", \"scaaacla!!AAwbykasloqwp000123\")"
   ]
  },
  {
   "cell_type": "code",
   "execution_count": 14,
   "metadata": {},
   "outputs": [
    {
     "name": "stdout",
     "output_type": "stream",
     "text": [
      "Successfully created account for user5 with mail 5example@mail.com.\n",
      "Successfully deleted user user5 from the database.\n",
      "user5's account has already been deleted.\n"
     ]
    }
   ],
   "source": [
    "user5 = user(\"user5\", \"5example@mail.com\", \"12-08-1996\", \"123>GH!!abcdefghijklmnopq\")\n",
    "user5.delete()\n",
    "user5.delete()"
   ]
  },
  {
   "cell_type": "code",
   "execution_count": 15,
   "metadata": {},
   "outputs": [
    {
     "name": "stdout",
     "output_type": "stream",
     "text": [
      "Successfully deleted user user1 from the database.\n",
      "Successfully created account for user1 with mail example@mail.com.\n"
     ]
    }
   ],
   "source": [
    "user1.delete()\n",
    "user1 = user(\"user1\", \"example@mail.com\", \"12-08-1996\", \"123>GH!!abcdefghijklmnopq\")"
   ]
  },
  {
   "cell_type": "code",
   "execution_count": 16,
   "metadata": {},
   "outputs": [
    {
     "data": {
      "text/html": [
       "<div>\n",
       "<style scoped>\n",
       "    .dataframe tbody tr th:only-of-type {\n",
       "        vertical-align: middle;\n",
       "    }\n",
       "\n",
       "    .dataframe tbody tr th {\n",
       "        vertical-align: top;\n",
       "    }\n",
       "\n",
       "    .dataframe thead th {\n",
       "        text-align: right;\n",
       "    }\n",
       "</style>\n",
       "<table border=\"1\" class=\"dataframe\">\n",
       "  <thead>\n",
       "    <tr style=\"text-align: right;\">\n",
       "      <th></th>\n",
       "      <th>Unnamed: 0</th>\n",
       "      <th>username</th>\n",
       "      <th>hashed_pw</th>\n",
       "      <th>mail</th>\n",
       "      <th>birthdate</th>\n",
       "      <th>joined</th>\n",
       "      <th>IPv4</th>\n",
       "      <th>country_code</th>\n",
       "    </tr>\n",
       "  </thead>\n",
       "  <tbody>\n",
       "    <tr>\n",
       "      <th>0</th>\n",
       "      <td>NaN</td>\n",
       "      <td>user2</td>\n",
       "      <td>f945a65d9cee8a48a4c34a41209468d292526fbf4b183c...</td>\n",
       "      <td>2example@mail.com</td>\n",
       "      <td>1996-08-12 00:00:00</td>\n",
       "      <td>2021-01-21 13:57:17.315936</td>\n",
       "      <td>XXXX</td>\n",
       "      <td>CH</td>\n",
       "    </tr>\n",
       "    <tr>\n",
       "      <th>1</th>\n",
       "      <td>NaN</td>\n",
       "      <td>user3</td>\n",
       "      <td>41db0acc3173b6a8903972b6d1ee7e0f6fea2045c686c6...</td>\n",
       "      <td>3example@mail.com</td>\n",
       "      <td>1994-03-17 00:00:00</td>\n",
       "      <td>2021-01-21 13:57:17.614871</td>\n",
       "      <td>XXXX</td>\n",
       "      <td>CH</td>\n",
       "    </tr>\n",
       "    <tr>\n",
       "      <th>2</th>\n",
       "      <td>NaN</td>\n",
       "      <td>user1</td>\n",
       "      <td>6d7b66f94d6cd91181f3909ec08942ff390c7e67edce12...</td>\n",
       "      <td>example@mail.com</td>\n",
       "      <td>1996-08-12 00:00:00</td>\n",
       "      <td>2021-01-21 13:57:26.927194</td>\n",
       "      <td>XXXX</td>\n",
       "      <td>CH</td>\n",
       "    </tr>\n",
       "  </tbody>\n",
       "</table>\n",
       "</div>"
      ],
      "text/plain": [
       "   Unnamed: 0 username                                          hashed_pw  \\\n",
       "0         NaN    user2  f945a65d9cee8a48a4c34a41209468d292526fbf4b183c...   \n",
       "1         NaN    user3  41db0acc3173b6a8903972b6d1ee7e0f6fea2045c686c6...   \n",
       "2         NaN    user1  6d7b66f94d6cd91181f3909ec08942ff390c7e67edce12...   \n",
       "\n",
       "                mail            birthdate                      joined  IPv4  \\\n",
       "0  2example@mail.com  1996-08-12 00:00:00  2021-01-21 13:57:17.315936  XXXX   \n",
       "1  3example@mail.com  1994-03-17 00:00:00  2021-01-21 13:57:17.614871  XXXX   \n",
       "2   example@mail.com  1996-08-12 00:00:00  2021-01-21 13:57:26.927194  XXXX   \n",
       "\n",
       "  country_code  \n",
       "0           CH  \n",
       "1           CH  \n",
       "2           CH  "
      ]
     },
     "execution_count": 16,
     "metadata": {},
     "output_type": "execute_result"
    }
   ],
   "source": [
    "read_DB()"
   ]
  },
  {
   "cell_type": "code",
   "execution_count": 17,
   "metadata": {},
   "outputs": [
    {
     "name": "stdout",
     "output_type": "stream",
     "text": [
      "testDB1.csv has been encrypted.\n",
      "testDB1.csv has been encrypted.\n",
      "testDB1.csv has been encrypted.\n",
      "testDB1.csv has been encrypted.\n",
      "testDB1.csv has been encrypted.\n"
     ]
    },
    {
     "data": {
      "text/html": [
       "<div>\n",
       "<style scoped>\n",
       "    .dataframe tbody tr th:only-of-type {\n",
       "        vertical-align: middle;\n",
       "    }\n",
       "\n",
       "    .dataframe tbody tr th {\n",
       "        vertical-align: top;\n",
       "    }\n",
       "\n",
       "    .dataframe thead th {\n",
       "        text-align: right;\n",
       "    }\n",
       "</style>\n",
       "<table border=\"1\" class=\"dataframe\">\n",
       "  <thead>\n",
       "    <tr style=\"text-align: right;\">\n",
       "      <th></th>\n",
       "      <th>gAAAAABgCXo3A1miZRdxkmhPDmvU4iiP9CcaPAi-eeVDymFNfXETvJCDdbnnqjmXsHJp75e7XgFqNeEMBls-_MrwaLs0rmOZrkxLjKl_ExX1VB65VfISi-vfC-L0YwbyUVUCIfSOQ6NRckh-dYWWeHPI7VBeOEeelyxuHI4Z6AJcvu6MWZxdrT3ULm6sRh7lvHDlXZ-QIUnQbfC-euwwIsp476O61qXJYh9Pg2SJHlMo0zM7oqdqHgE3HijrcWT0e2PEAe8gvBm88ZxoGi-LMGPQMIdJCJerhMnXnZTKElyzVfLO2iaHq6RrAVfXWIr-AU7y5UjE_MPgODv3THjxivpi032GqvrhhF5T1rONlwSR42hlIi-KDdMxujWxlAg3k0Z32fuX_Ie2UFUePqJ9O89dFwPm_0ckWKGQHEZEWgzDTYpS96XWiTcS-2s7RW-TAFXYLeJFaz--d1bVcXlDYiGJzXc8inM8-sBzJsk8NDTalTW_e-zpSpiC0w_29SPekDpdjVc0BO3oPiM_Kb00MCF1PnIxO_DemdyVLLhlU4KkXc3ZlhALAup8XOzY7sz8rTeT7LBvB0nyECgf7GEZw7llc5-jvjuZpbOyMm8kHwnYVQx5hzspebNO_VFK6CU9NMP2Oz2ty0UP7D5mi0CIjx5JPcykaq064vGBO1Ec_fEzn_Ju70_MhptX4HdRIRM8NiGYGQxJRzGI4VKLrZ7zlwK51QcUPlcyGu2HfVKRDDb9j7Vw6EgedZUTWZkhdTvqXfLmTAw-9gzFTloxhOb7jDAh_Hp4LdFQnTxfoTzvrX6ZS__NCbtlBJ6vmngdmBdI8fFTU0sPCbYq4jTI1VN_vV-4y4Pcl_CW_j-Rz-cLF59rl_KK1oUYtIqUfnyt5PVestGF3T23NgIPuUBVgZDrJrLKwpCxIC_FZT1Rfy_1HgXGQMVWWhpnZCu4Km1QQWWlIHhsPt23ESGiCuJHd3lWAW-eO0VMj4XLipVhTQ7U1lDhEJAdLFt6fshptvlRInujHSBvjItKKsCvrm9q1fAMG-qyvc1fmIsFZ57fQdoOnnMq8Zk1qiXeBsK13IwDCELch_3KWQ1jykKpW2gHink-Fe5lzsEG11DHXwbZgDnh_bzn_MP9XlX7KfWXi2ywz86Nmop6RTkrHCQKffiDt57p6d38jzXUbevfaKPsq-pvsNxPzrzQXpCvjUQ5SR2H2FtRqwjfXNen9eaZsOEdn0lwJNVQPZVkqGt0Fd89rLnpe-l7pG0bhQlfpDBQUvhbUwNrPgYi8-VlTZwpVo_V-m1xOln-kj2RTFFrYDIzPSDkHkv5t4tjru0Rw5GijCEmQKFALv-rlFD1zwEAksLB9abulZ2qqwILjf_KLSqPOiidPsrBexdfofnquzgrVqo9xPvy7FLu8XC2jg5oY29vhUeVO5iPXXqO6GGjMNvvxwETHY-VotvnMrvW_GGRVtdgRlkXVn9J-jYDiymE7-R3kLGlIMSWX6L0sjtgbqFVdJELCCpkKij-BNVg6v-uKeAmVWPJKW64KwUWuB5l5oEGDSXBE4DOtZ-HXopPtLMXpyUq4zG5F0bdY51UAS_lHagJR4enukjQ4T-5JaIiQFaVzd1GGKpLq5mqWKY1RRVg1KfN0Tg2_BMDAhxP6tXPwLBKjPivFx1x_VmccANh7gveTdgnj0i4vD6iOSgKMSNxTCR716IWF06qR7uq5jLfk6Hh3WNBdczRs2u5UyQzKWhpt8LJ9ybi-ktW9xSBoc1aZ7yjL9lBFPOICzBYI64Fc1wREcz3exmndkzE8gPdUl2pyJvbe3GCCD2Y4rOkYsgDLEduyELwBAHFkNZMyBiZbs6hiJ6AZvlD_JkXAcboIctnWWNv7lv7celsRys1R6x_eO9DL-PrIvNigPlmA29cdFJ5_HmzCtLysHXjxpRIWuX8X7MybctlgOwbG6udBDECDuwom2MDgVyJEMoHpou-PxQdvDUvYhKh0LWEgWmu1BoD7f0pBBVAtoQ5GGtYUn_PoXa9LTi6chvrm3Hp289BqWbAefq9Y5KqC2M8DMSzhWa_hsgo1KLJAV7hiCYxLXIG6ZiAppaQ9fBWG7ulx_XWlNSwnT1_GjhNTtyOiMyzsYh6HyQT6pn_5n-Z2Mf-rxERmd1h4Xx60fd-C2nECLqLNWrwas7INosAhu6cIXhacc-TXBG2W3ThTIbSucRol_zpkIDDgev2Iv2Vbdo1Na1twgWLq0DrERai68tMIjAXBRAtbs3jVwOKNDieYIvLVFbOR1v1F4qFYyq9NCKlPErahfYFZNURPiERkG0VUa3tZ94pBRe0DKapHvnwTO3ODaKTTCKtber6nqLtSeidMwBLX4eJwE7jaddD0Rhuy9hUHer-pzvjef4f-ZdlixVVcsjB-OR7pqmfe0HpivnsF1S2Uaa57115JghrveyJTB4S-aspssF8NturN4BMGnj_zyVkHT3d3FF3PjXkIXyANaO6rW7hqnCnPwT9eXjLoy4wwHr7mNVyk2QaAfdf784lf9SjAT3UVsVOUR5JhPuCrNx9Wh5svOu74EOMHpb17pzacPokIahx7lXs-YNlZep99qyhlE8JxWV5nSaByn5vA6G1Yfdk_sFfb9B9BGoTbOJz-SGZ-4zv-5UHXrlTWHUwKdCYSs6Y8HJEc9y7TjiwWexrrZuLQj818lSmLuDpUWWYd06VpQlD6ovfwkszpEmkKOelbef8zeZNvVQc-3wQrmS1A2JN9WlSRDcVzaE-Xt8tqohf-pq-DosUWXxdufJnDTgZsNS8Dfx3vhAejZ524x52aaN5-L6hLtvAjft-Qvr_WS04XcMlIcq5ixbrjKiEt-eN22fRZjwtjuDreV1b9ks3iybmsJ4ZQMZJXdDocR3JTV7hmd2IHT3HRCl9h1yCq1jP6vr_goxKem-lcebV9Xvh5vfdwKF0Cw4aSBNh20NLetQKtlhmxCNLpfQe_TuJgEwK9cYhAJKjX6J1mmhc0YwsehuzBgG3ciTS0B1Bl9S3Kj582DFoAOsKsjRWfI4Oi6qvXPE8XJRlCqVEGjl-2YNvq3MoOYXl29F2DSDEGPaw5SNygircJIalNiicABIcHVPKyTmfSukVeSj0S4EUIES1mD9IXnzg2GEgUJNW2UmOITjgD0xaMX_TUpl5dSMg1a_elGsO7GuK9ITOp-Ga3BcCw0YtVd9_b6eeyosUnfPZYmXc1LBxoe8wt2W2ALg_QI1UESEiws_FqDJ9p6lzy63vzfDWs_YniN3pJo-dVIfc2BMvWaUyiMimtr6fGF8oJeGsuuNxSzomPQXOcQtFFRA1QgfVZYKX0zYhrXsmvuuBfQJMDLt3PazjOnGOgYCe4bPibr3Nebd0WcelPUM5ruodJPXdfeEQ3RWJ0iUKl2CUtrvGJ_Fm42Qxw5m9_s_jpqe073Fc-lqFkURbVeBAsydfty9XeOxq1mATkibhpf0Y0yZ3IXzVD98bQfwPKJR6WY100rugAlBAsOpSuJnWWKlMJrU5IQ1MXzoR3Dj1y1xxEoO4EDpcHiMyHM7nDnBYfw7Zs2MaHhQ5GMNOx1juLIgiBInE-TtRXwewvENEWMFpdk3fW8ey6NDg7fgof5WJSfdVuZlJ534GotsqwjP6v4jlx27mxvWCImwGf02ZVI8pwqAHnHKv-QjdQc8x9ZmGj2XogHz_oxUprhVW1iMo5NHFcNNj3xmbeAhmZf24MXSQ6mKt92Lgi5o69doKx2NdaFUe82EfOdlGuNcMdO5KkD4cvqEb7MjQ-BHYAyEHUbiGQQAR7Fr-1dhmgtk7zUWtlyvXLztXiw6AQnqnr3RHMLpTML8FOLZTMqZ0wyx-5HNtLMMY9CC0cVNvQT3_5KFYB7CtMQyKv9xzMqQYMm9iLN4j-kXu3qmJzOxHs8xViLTETjdU7iP9WO2L-vobkcrvrtv6xEztorJMHZEvnSzkXnw8mfwQLopb2nYXkdhgKvLG1dzS_SxR7r3Pt44YAgvb0s8v6s5Q-qNkbFgziUuJdOTGZJRYFljcqOSNxHpWl87S6BrQWgVJwhWBRTB7LZw3qTBMJOWSgNdTD50jGpGsI3qkmqfKxw_VqU9D-fw7PKddW1gYphDYO8H2M6VdTTOgn2X5zTX2NBJseS0pLIuVLiIHwt2A4J_PAkPm82K1d17vxBYVq3P3C-B1h1_Hz1IQikqTd7h43P9vTqdIalFSNvh3qqjWffEq8_AcwDT57PonQJcDhJKiJRefobdzXkob0sG2X1J-ky3c-oTSIXQVtzXz1vaZ2Gv36Tg6DoCfSCy5TKTXNDqHRNAXQFCdFSY9Jr_L5S2nYfuBe-jqj1OqS9kWZpeW0haCh2XUrL1xPFg6jbeYda_elFFsddfu9380foS1z2eREuhEiFjvF8fAPUsyuB0KlKF9iVyeDK2JWfYp2xVIGV4SzRTSNgYgqT1jjkYQs2SovDGpZ9TJ38AWdc7VGdJKvTmATyzhLf_G_wI-mUkPME1pV9HgKjOSnSBJ2SZRqdzW35RhRJqzy63TtuZNp8qW9A_drS690oL06WXNAdlCYWCzvijUJzAMaEVlascO1cOdBTc60Zp_RryPUgS3ZoRzCJD2Zwj0vIKEsIdvd7JO0nS8lIR3kKC4lgwEm3hfAEfbLon7yMByVBlguc84Zg3Sifqa9Xkkf-HGsJk0tYXnQ6L39BxQnIiORIdGWdhfO1rJYVtkBbhgVee_XG7xAYgmzptkyK_BrB1kJuCpN75sCvZkHRbyF0CnAya_FR3GcWRR2KWeprsD1q0c1KONGSiJYDekxpWzlBxoRBBn8c4JV_TCcXIVWxJz4CWq_VRy5tlz1jf7Ya5b4Fzf39OH0gpc2_a8o7JnfrC9cDkI3DMtq37FBecNf25n152jA3aHZTTAZ2CMu-YFA0X8CRtMKWQpAUUZ0CiSwh4d4iqYIM0V7qxhNR-D_NxQchslRgA14g5tKSjeNIsWgfuNs7iwt8AlM-ZU5rhbaKVA8bxK39UUTlEnAtLQg_Mn1WguIs7KmFhPK8DKcR5H2dxEPGo7BO_xdEZ9UDmfv6KwjmvIA7JaTi-KCMa29niv1PxXXOsqJPdwR76gkzyEVBssDxFk52CYtUOhMqUkX4aptUcrfjyc8wkH3JmRQV1UWXn2TpPFRYKCtASnFJE6NpOst78mFoUM8sCIgble9D4U2OJhzX3pH0FwGTGHht-BVrdIJyXkGlCwopUFg75vveCBhUfwzRSGLFuuEEBo103sl0OHTlQHohH-kWqKx5lHcAEH8JNtggynxUQlwBSzNmEjyis-lauPxoYzbyNCE0IF8u5_r5Ag8GaBHWTLy5mW9D1TUdOdWw_tzt9D37ou_yAUOCKnEpNvww9c7GxL7ZjTDq7Phl19bstXz1o032N42xlG-DXmIqRZAWpzaiQ-O4LDwgrbGRZZriDSlUTK2_4JGU4y8YErLQfEK8LHvGETUeKooCER6esuQ6Fsk9nvS-7-rgIIYtrVmf0GUyxeRP20gXt8l-s_EDl5I4QNnQYGnVECfw==</th>\n",
       "    </tr>\n",
       "  </thead>\n",
       "  <tbody>\n",
       "  </tbody>\n",
       "</table>\n",
       "</div>"
      ],
      "text/plain": [
       "Empty DataFrame\n",
       "Columns: [gAAAAABgCXo3A1miZRdxkmhPDmvU4iiP9CcaPAi-eeVDymFNfXETvJCDdbnnqjmXsHJp75e7XgFqNeEMBls-_MrwaLs0rmOZrkxLjKl_ExX1VB65VfISi-vfC-L0YwbyUVUCIfSOQ6NRckh-dYWWeHPI7VBeOEeelyxuHI4Z6AJcvu6MWZxdrT3ULm6sRh7lvHDlXZ-QIUnQbfC-euwwIsp476O61qXJYh9Pg2SJHlMo0zM7oqdqHgE3HijrcWT0e2PEAe8gvBm88ZxoGi-LMGPQMIdJCJerhMnXnZTKElyzVfLO2iaHq6RrAVfXWIr-AU7y5UjE_MPgODv3THjxivpi032GqvrhhF5T1rONlwSR42hlIi-KDdMxujWxlAg3k0Z32fuX_Ie2UFUePqJ9O89dFwPm_0ckWKGQHEZEWgzDTYpS96XWiTcS-2s7RW-TAFXYLeJFaz--d1bVcXlDYiGJzXc8inM8-sBzJsk8NDTalTW_e-zpSpiC0w_29SPekDpdjVc0BO3oPiM_Kb00MCF1PnIxO_DemdyVLLhlU4KkXc3ZlhALAup8XOzY7sz8rTeT7LBvB0nyECgf7GEZw7llc5-jvjuZpbOyMm8kHwnYVQx5hzspebNO_VFK6CU9NMP2Oz2ty0UP7D5mi0CIjx5JPcykaq064vGBO1Ec_fEzn_Ju70_MhptX4HdRIRM8NiGYGQxJRzGI4VKLrZ7zlwK51QcUPlcyGu2HfVKRDDb9j7Vw6EgedZUTWZkhdTvqXfLmTAw-9gzFTloxhOb7jDAh_Hp4LdFQnTxfoTzvrX6ZS__NCbtlBJ6vmngdmBdI8fFTU0sPCbYq4jTI1VN_vV-4y4Pcl_CW_j-Rz-cLF59rl_KK1oUYtIqUfnyt5PVestGF3T23NgIPuUBVgZDrJrLKwpCxIC_FZT1Rfy_1HgXGQMVWWhpnZCu4Km1QQWWlIHhsPt23ESGiCuJHd3lWAW-eO0VMj4XLipVhTQ7U1lDhEJAdLFt6fshptvlRInujHSBvjItKKsCvrm9q1fAMG-qyvc1fmIsFZ57fQdoOnnMq8Zk1qiXeBsK13IwDCELch_3KWQ1jykKpW2gHink-Fe5lzsEG11DHXwbZgDnh_bzn_MP9XlX7KfWXi2ywz86Nmop6RTkrHCQKffiDt57p6d38jzXUbevfaKPsq-pvsNxPzrzQXpCvjUQ5SR2H2FtRqwjfXNen9eaZsOEdn0lwJNVQPZVkqGt0Fd89rLnpe-l7pG0bhQlfpDBQUvhbUwNrPgYi8-VlTZwpVo_V-m1xOln-kj2RTFFrYDIzPSDkHkv5t4tjru0Rw5GijCEmQKFALv-rlFD1zwEAksLB9abulZ2qqwILjf_KLSqPOiidPsrBexdfofnquzgrVqo9xPvy7FLu8XC2jg5oY29vhUeVO5iPXXqO6GGjMNvvxwETHY-VotvnMrvW_GGRVtdgRlkXVn9J-jYDiymE7-R3kLGlIMSWX6L0sjtgbqFVdJELCCpkKij-BNVg6v-uKeAmVWPJKW64KwUWuB5l5oEGDSXBE4DOtZ-HXopPtLMXpyUq4zG5F0bdY51UAS_lHagJR4enukjQ4T-5JaIiQFaVzd1GGKpLq5mqWKY1RRVg1KfN0Tg2_BMDAhxP6tXPwLBKjPivFx1x_VmccANh7gveTdgnj0i4vD6iOSgKMSNxTCR716IWF06qR7uq5jLfk6Hh3WNBdczRs2u5UyQzKWhpt8LJ9ybi-ktW9xSBoc1aZ7yjL9lBFPOICzBYI64Fc1wREcz3exmndkzE8gPdUl2pyJvbe3GCCD2Y4rOkYsgDLEduyELwBAHFkNZMyBiZbs6hiJ6AZvlD_JkXAcboIctnWWNv7lv7celsRys1R6x_eO9DL-PrIvNigPlmA29cdFJ5_HmzCtLysHXjxpRIWuX8X7MybctlgOwbG6udBDECDuwom2MDgVyJEMoHpou-PxQdvDUvYhKh0LWEgWmu1BoD7f0pBBVAtoQ5GGtYUn_PoXa9LTi6chvrm3Hp289BqWbAefq9Y5KqC2M8DMSzhWa_hsgo1KLJAV7hiCYxLXIG6ZiAppaQ9fBWG7ulx_XWlNSwnT1_GjhNTtyOiMyzsYh6HyQT6pn_5n-Z2Mf-rxERmd1h4Xx60fd-C2nECLqLNWrwas7INosAhu6cIXhacc-TXBG2W3ThTIbSucRol_zpkIDDgev2Iv2Vbdo1Na1twgWLq0DrERai68tMIjAXBRAtbs3jVwOKNDieYIvLVFbOR1v1F4qFYyq9NCKlPErahfYFZNURPiERkG0VUa3tZ94pBRe0DKapHvnwTO3ODaKTTCKtber6nqLtSeidMwBLX4eJwE7jaddD0Rhuy9hUHer-pzvjef4f-ZdlixVVcsjB-OR7pqmfe0HpivnsF1S2Uaa57115JghrveyJTB4S-aspssF8NturN4BMGnj_zyVkHT3d3FF3PjXkIXyANaO6rW7hqnCnPwT9eXjLoy4wwHr7mNVyk2QaAfdf784lf9SjAT3UVsVOUR5JhPuCrNx9Wh5svOu74EOMHpb17pzacPokIahx7lXs-YNlZep99qyhlE8JxWV5nSaByn5vA6G1Yfdk_sFfb9B9BGoTbOJz-SGZ-4zv-5UHXrlTWHUwKdCYSs6Y8HJEc9y7TjiwWexrrZuLQj818lSmLuDpUWWYd06VpQlD6ovfwkszpEmkKOelbef8zeZNvVQc-3wQrmS1A2JN9WlSRDcVzaE-Xt8tqohf-pq-DosUWXxdufJnDTgZsNS8Dfx3vhAejZ524x52aaN5-L6hLtvAjft-Qvr_WS04XcMlIcq5ixbrjKiEt-eN22fRZjwtjuDreV1b9ks3iybmsJ4ZQMZJXdDocR3JTV7hmd2IHT3HRCl9h1yCq1jP6vr_goxKem-lcebV9Xvh5vfdwKF0Cw4aSBNh20NLetQKtlhmxCNLpfQe_TuJgEwK9cYhAJKjX6J1mmhc0YwsehuzBgG3ciTS0B1Bl9S3Kj582DFoAOsKsjRWfI4Oi6qvXPE8XJRlCqVEGjl-2YNvq3MoOYXl29F2DSDEGPaw5SNygircJIalNiicABIcHVPKyTmfSukVeSj0S4EUIES1mD9IXnzg2GEgUJNW2UmOITjgD0xaMX_TUpl5dSMg1a_elGsO7GuK9ITOp-Ga3BcCw0YtVd9_b6eeyosUnfPZYmXc1LBxoe8wt2W2ALg_QI1UESEiws_FqDJ9p6lzy63vzfDWs_YniN3pJo-dVIfc2BMvWaUyiMimtr6fGF8oJeGsuuNxSzomPQXOcQtFFRA1QgfVZYKX0zYhrXsmvuuBfQJMDLt3PazjOnGOgYCe4bPibr3Nebd0WcelPUM5ruodJPXdfeEQ3RWJ0iUKl2CUtrvGJ_Fm42Qxw5m9_s_jpqe073Fc-lqFkURbVeBAsydfty9XeOxq1mATkibhpf0Y0yZ3IXzVD98bQfwPKJR6WY100rugAlBAsOpSuJnWWKlMJrU5IQ1MXzoR3Dj1y1xxEoO4EDpcHiMyHM7nDnBYfw7Zs2MaHhQ5GMNOx1juLIgiBInE-TtRXwewvENEWMFpdk3fW8ey6NDg7fgof5WJSfdVuZlJ534GotsqwjP6v4jlx27mxvWCImwGf02ZVI8pwqAHnHKv-QjdQc8x9ZmGj2XogHz_oxUprhVW1iMo5NHFcNNj3xmbeAhmZf24MXSQ6mKt92Lgi5o69doKx2NdaFUe82EfOdlGuNcMdO5KkD4cvqEb7MjQ-BHYAyEHUbiGQQAR7Fr-1dhmgtk7zUWtlyvXLztXiw6AQnqnr3RHMLpTML8FOLZTMqZ0wyx-5HNtLMMY9CC0cVNvQT3_5KFYB7CtMQyKv9xzMqQYMm9iLN4j-kXu3qmJzOxHs8xViLTETjdU7iP9WO2L-vobkcrvrtv6xEztorJMHZEvnSzkXnw8mfwQLopb2nYXkdhgKvLG1dzS_SxR7r3Pt44YAgvb0s8v6s5Q-qNkbFgziUuJdOTGZJRYFljcqOSNxHpWl87S6BrQWgVJwhWBRTB7LZw3qTBMJOWSgNdTD50jGpGsI3qkmqfKxw_VqU9D-fw7PKddW1gYphDYO8H2M6VdTTOgn2X5zTX2NBJseS0pLIuVLiIHwt2A4J_PAkPm82K1d17vxBYVq3P3C-B1h1_Hz1IQikqTd7h43P9vTqdIalFSNvh3qqjWffEq8_AcwDT57PonQJcDhJKiJRefobdzXkob0sG2X1J-ky3c-oTSIXQVtzXz1vaZ2Gv36Tg6DoCfSCy5TKTXNDqHRNAXQFCdFSY9Jr_L5S2nYfuBe-jqj1OqS9kWZpeW0haCh2XUrL1xPFg6jbeYda_elFFsddfu9380foS1z2eREuhEiFjvF8fAPUsyuB0KlKF9iVyeDK2JWfYp2xVIGV4SzRTSNgYgqT1jjkYQs2SovDGpZ9TJ38AWdc7VGdJKvTmATyzhLf_G_wI-mUkPME1pV9HgKjOSnSBJ2SZRqdzW35RhRJqzy63TtuZNp8qW9A_drS690oL06WXNAdlCYWCzvijUJzAMaEVlascO1cOdBTc60Zp_RryPUgS3ZoRzCJD2Zwj0vIKEsIdvd7JO0nS8lIR3kKC4lgwEm3hfAEfbLon7yMByVBlguc84Zg3Sifqa9Xkkf-HGsJk0tYXnQ6L39BxQnIiORIdGWdhfO1rJYVtkBbhgVee_XG7xAYgmzptkyK_BrB1kJuCpN75sCvZkHRbyF0CnAya_FR3GcWRR2KWeprsD1q0c1KONGSiJYDekxpWzlBxoRBBn8c4JV_TCcXIVWxJz4CWq_VRy5tlz1jf7Ya5b4Fzf39OH0gpc2_a8o7JnfrC9cDkI3DMtq37FBecNf25n152jA3aHZTTAZ2CMu-YFA0X8CRtMKWQpAUUZ0CiSwh4d4iqYIM0V7qxhNR-D_NxQchslRgA14g5tKSjeNIsWgfuNs7iwt8AlM-ZU5rhbaKVA8bxK39UUTlEnAtLQg_Mn1WguIs7KmFhPK8DKcR5H2dxEPGo7BO_xdEZ9UDmfv6KwjmvIA7JaTi-KCMa29niv1PxXXOsqJPdwR76gkzyEVBssDxFk52CYtUOhMqUkX4aptUcrfjyc8wkH3JmRQV1UWXn2TpPFRYKCtASnFJE6NpOst78mFoUM8sCIgble9D4U2OJhzX3pH0FwGTGHht-BVrdIJyXkGlCwopUFg75vveCBhUfwzRSGLFuuEEBo103sl0OHTlQHohH-kWqKx5lHcAEH8JNtggynxUQlwBSzNmEjyis-lauPxoYzbyNCE0IF8u5_r5Ag8GaBHWTLy5mW9D1TUdOdWw_tzt9D37ou_yAUOCKnEpNvww9c7GxL7ZjTDq7Phl19bstXz1o032N42xlG-DXmIqRZAWpzaiQ-O4LDwgrbGRZZriDSlUTK2_4JGU4y8YErLQfEK8LHvGETUeKooCER6esuQ6Fsk9nvS-7-rgIIYtrVmf0GUyxeRP20gXt8l-s_EDl5I4QNnQYGnVECfw==]\n",
       "Index: []"
      ]
     },
     "execution_count": 17,
     "metadata": {},
     "output_type": "execute_result"
    }
   ],
   "source": [
    "for i in range(5):\n",
    "    encrypt(file_name, my_key)\n",
    "\n",
    "read_DB()"
   ]
  },
  {
   "cell_type": "code",
   "execution_count": 18,
   "metadata": {},
   "outputs": [
    {
     "name": "stdout",
     "output_type": "stream",
     "text": [
      "testDB1.csv has been decrypted.\n",
      "testDB1.csv has been decrypted.\n",
      "testDB1.csv has been decrypted.\n",
      "testDB1.csv has been decrypted.\n",
      "testDB1.csv has been decrypted.\n"
     ]
    },
    {
     "data": {
      "text/html": [
       "<div>\n",
       "<style scoped>\n",
       "    .dataframe tbody tr th:only-of-type {\n",
       "        vertical-align: middle;\n",
       "    }\n",
       "\n",
       "    .dataframe tbody tr th {\n",
       "        vertical-align: top;\n",
       "    }\n",
       "\n",
       "    .dataframe thead th {\n",
       "        text-align: right;\n",
       "    }\n",
       "</style>\n",
       "<table border=\"1\" class=\"dataframe\">\n",
       "  <thead>\n",
       "    <tr style=\"text-align: right;\">\n",
       "      <th></th>\n",
       "      <th>Unnamed: 0</th>\n",
       "      <th>username</th>\n",
       "      <th>hashed_pw</th>\n",
       "      <th>mail</th>\n",
       "      <th>birthdate</th>\n",
       "      <th>joined</th>\n",
       "      <th>IPv4</th>\n",
       "      <th>country_code</th>\n",
       "    </tr>\n",
       "  </thead>\n",
       "  <tbody>\n",
       "    <tr>\n",
       "      <th>0</th>\n",
       "      <td>NaN</td>\n",
       "      <td>user2</td>\n",
       "      <td>f945a65d9cee8a48a4c34a41209468d292526fbf4b183c...</td>\n",
       "      <td>2example@mail.com</td>\n",
       "      <td>1996-08-12 00:00:00</td>\n",
       "      <td>2021-01-21 13:57:17.315936</td>\n",
       "      <td>XXXX</td>\n",
       "      <td>CH</td>\n",
       "    </tr>\n",
       "    <tr>\n",
       "      <th>1</th>\n",
       "      <td>NaN</td>\n",
       "      <td>user3</td>\n",
       "      <td>41db0acc3173b6a8903972b6d1ee7e0f6fea2045c686c6...</td>\n",
       "      <td>3example@mail.com</td>\n",
       "      <td>1994-03-17 00:00:00</td>\n",
       "      <td>2021-01-21 13:57:17.614871</td>\n",
       "      <td>XXXX</td>\n",
       "      <td>CH</td>\n",
       "    </tr>\n",
       "    <tr>\n",
       "      <th>2</th>\n",
       "      <td>NaN</td>\n",
       "      <td>user1</td>\n",
       "      <td>6d7b66f94d6cd91181f3909ec08942ff390c7e67edce12...</td>\n",
       "      <td>example@mail.com</td>\n",
       "      <td>1996-08-12 00:00:00</td>\n",
       "      <td>2021-01-21 13:57:26.927194</td>\n",
       "      <td>XXXX</td>\n",
       "      <td>CH</td>\n",
       "    </tr>\n",
       "  </tbody>\n",
       "</table>\n",
       "</div>"
      ],
      "text/plain": [
       "   Unnamed: 0 username                                          hashed_pw  \\\n",
       "0         NaN    user2  f945a65d9cee8a48a4c34a41209468d292526fbf4b183c...   \n",
       "1         NaN    user3  41db0acc3173b6a8903972b6d1ee7e0f6fea2045c686c6...   \n",
       "2         NaN    user1  6d7b66f94d6cd91181f3909ec08942ff390c7e67edce12...   \n",
       "\n",
       "                mail            birthdate                      joined  IPv4  \\\n",
       "0  2example@mail.com  1996-08-12 00:00:00  2021-01-21 13:57:17.315936  XXXX   \n",
       "1  3example@mail.com  1994-03-17 00:00:00  2021-01-21 13:57:17.614871  XXXX   \n",
       "2   example@mail.com  1996-08-12 00:00:00  2021-01-21 13:57:26.927194  XXXX   \n",
       "\n",
       "  country_code  \n",
       "0           CH  \n",
       "1           CH  \n",
       "2           CH  "
      ]
     },
     "execution_count": 18,
     "metadata": {},
     "output_type": "execute_result"
    }
   ],
   "source": [
    "for i in range(5):\n",
    "    decrypt(file_name, my_key)\n",
    "\n",
    "read_DB()"
   ]
  }
 ],
 "metadata": {
  "kernelspec": {
   "display_name": "Python 3",
   "language": "python",
   "name": "python3"
  },
  "language_info": {
   "codemirror_mode": {
    "name": "ipython",
    "version": 3
   },
   "file_extension": ".py",
   "mimetype": "text/x-python",
   "name": "python",
   "nbconvert_exporter": "python",
   "pygments_lexer": "ipython3",
   "version": "3.8.5"
  }
 },
 "nbformat": 4,
 "nbformat_minor": 4
}
